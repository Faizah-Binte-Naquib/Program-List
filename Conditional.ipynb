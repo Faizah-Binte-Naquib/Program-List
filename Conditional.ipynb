{
 "cells": [
  {
   "cell_type": "markdown",
   "metadata": {},
   "source": [
    "<b>1. Two numbers are input through keyboard. Write a program to find out the maximum and minimum of these 2 numbers.</b>\n",
    "* Summary: Finds the maximum and minimum of two numbers\n",
    "* Input: two numbers\n",
    "* Output: maximum and minimum values"
   ]
  },
  {
   "cell_type": "code",
   "execution_count": 1,
   "metadata": {},
   "outputs": [
    {
     "name": "stdout",
     "output_type": "stream",
     "text": [
      "Enter one number:5\n",
      "Enter another number:9\n",
      "Max number: 9.0\n",
      "Min number: 5.0\n"
     ]
    }
   ],
   "source": [
    "num_1=float(input(\"Enter one number:\"))\n",
    "num_2=float(input(\"Enter another number:\"))\n",
    "if(num_1>num_2):\n",
    "    print(\"Max number:\",num_1)\n",
    "    print(\"Min number:\",num_2)\n",
    "else:\n",
    "    print(\"Max number:\",num_2)\n",
    "    print(\"Min number:\",num_1)"
   ]
  },
  {
   "cell_type": "markdown",
   "metadata": {},
   "source": [
    "<b>2. Take a year as input and determine whether it is a leap year.</b>\n",
    "* Summary: Determines leap year\n",
    "* Input: year\n",
    "* Output: prints leap year if is leap year"
   ]
  },
  {
   "cell_type": "code",
   "execution_count": 5,
   "metadata": {},
   "outputs": [
    {
     "name": "stdout",
     "output_type": "stream",
     "text": [
      "Enter a year:2000\n",
      "Leap Year\n"
     ]
    }
   ],
   "source": [
    "year=int(input(\"Enter a year:\"))\n",
    "if(year%4==0 & year%100==0 and year%400==0):\n",
    "    print(\"Leap Year\")"
   ]
  },
  {
   "cell_type": "markdown",
   "metadata": {},
   "source": [
    "<b> 3. If cost price and selling price of an item is input through the keyboard, write a program to determine whether the seller has made profit or incurred loss. Also determine how much profit he made or loss he incurred. </b>\n",
    "* Summary: Determines incurred profit or loss\n",
    "* Input: cost and selling price\n",
    "* Output: profit or loss"
   ]
  },
  {
   "cell_type": "code",
   "execution_count": 6,
   "metadata": {},
   "outputs": [
    {
     "name": "stdout",
     "output_type": "stream",
     "text": [
      "Cost price of an item:10\n",
      "Selling price of an item:20\n",
      "profit: 10.0\n"
     ]
    }
   ],
   "source": [
    "cost_price=float(input(\"Cost price of an item:\"))\n",
    "selling_price=float(input(\"Selling price of an item:\"))\n",
    "if(cost_price>selling_price):\n",
    "    print(\"loss:\",cost_price-selling_price)\n",
    "else:\n",
    "    print(\"profit:\",selling_price-cost_price)"
   ]
  },
  {
   "cell_type": "markdown",
   "metadata": {},
   "source": [
    "<b> 4. Any integer is input through keyboard. Write a program to find out whether it is an odd number or even number. </b>\n",
    "* Summary: Determines if number is odd or even\n",
    "* Input: number\n",
    "* Output: print odd or even"
   ]
  },
  {
   "cell_type": "code",
   "execution_count": 7,
   "metadata": {},
   "outputs": [
    {
     "name": "stdout",
     "output_type": "stream",
     "text": [
      "Enter any integer:4\n",
      "Even number\n"
     ]
    }
   ],
   "source": [
    "integer = int(input(\"Enter any integer:\"))\n",
    "if(integer%2==0):\n",
    "    print(\"Even number\")\n",
    "else:\n",
    "    print(\"Odd number\")"
   ]
  },
  {
   "cell_type": "markdown",
   "metadata": {},
   "source": [
    "<b> 5. According to Gregorian calendar, it was Monday on the date 01/01/1900. If any year is input through the keyboard write a program to find out what is the day on 1st January of this year. </b>\n",
    "\n",
    "* Summary: Determines the day of a given date for Greogorian calender\n",
    "* Input: \n",
    "* Output: day"
   ]
  },
  {
   "cell_type": "code",
   "execution_count": 14,
   "metadata": {},
   "outputs": [
    {
     "name": "stdout",
     "output_type": "stream",
     "text": [
      "Wednesday\n"
     ]
    }
   ],
   "source": [
    "year_diff=365*(2021-1900)\n",
    "day=year_diff%7\n",
    "if(day==0):\n",
    "    print(\"Monday\")\n",
    "elif(day==1):\n",
    "    print(\"Tuesday\")\n",
    "elif(day==2):\n",
    "    print(\"Wednesday\")\n",
    "elif(day==3):\n",
    "    print(\"Thursday\")\n",
    "elif(day==4):\n",
    "    print(\"Friday\")\n",
    "elif(day==5):\n",
    "    print(\"Saturday\")\n",
    "elif(day==6):\n",
    "    print(\"Sunday\")"
   ]
  },
  {
   "cell_type": "markdown",
   "metadata": {},
   "source": [
    "<b>6. A five digit number is entered through the keyboard. Write a program to obtain the reverse number and to determine whether the original numbers are equal or not.</b>\n",
    "* Summary: Determines if a number and its reverse are equal or not\n",
    "* Input: 5 digit number \n",
    "* Output: equal or not equal"
   ]
  },
  {
   "cell_type": "code",
   "execution_count": 15,
   "metadata": {},
   "outputs": [
    {
     "name": "stdout",
     "output_type": "stream",
     "text": [
      "Enter a 5 digit number:12321\n",
      "Equal\n"
     ]
    }
   ],
   "source": [
    "num = int(input(\"Enter a 5 digit number:\"))\n",
    "n=num\n",
    "num_1=num%10 #5th digit\n",
    "num=((num-num%10)/10)\n",
    "num_2=num%10 #4th digit\n",
    "num=((num-num%10)/10)\n",
    "num_3=num%10 #3rd digit\n",
    "num=((num-num%10)/10)\n",
    "num_4=num%10 #2nd digit\n",
    "num=((num-num%10)/10) #1st digit\n",
    "n_rev=(num_1*10000+num_2*1000+num_3*100+num_4*10+num*1)\n",
    "if(n==n_rev):\n",
    "    print(\"Equal\")\n",
    "else:\n",
    "    print(\"Not Equal\")"
   ]
  },
  {
   "cell_type": "markdown",
   "metadata": {},
   "source": [
    "<b> 7. AUST grading policy is :<br>\n",
    "(i) 80 % marks or above is A+<br>\n",
    "(ii) 75% to 79% marks is A<br>\n",
    "(iii) 70% to 74% marks is A-<br>\n",
    "(iv) 65% to 69% marks is B+<br>\n",
    "(v) 60% to 64% marks is B<br>\n",
    "(vi) 55% to 59% marks is B-<br>\n",
    "(vii) 50% to 54% marks is C+<br>\n",
    "(viii) 45% to 49% marks is C<br>\n",
    "(ix) 40% to 44% marks is D<br>\n",
    "(x) Below 40% is F<br>\n",
    "Write a program which will take an input from user and calculate the grade of\n",
    "a student according to AUST grading policy based on that input.</b>\n",
    "\n",
    "    \n",
    "* Summary: Determines the grade of a given score\n",
    "* Input: score\n",
    "* Output: grade"
   ]
  },
  {
   "cell_type": "code",
   "execution_count": 22,
   "metadata": {},
   "outputs": [
    {
     "name": "stdout",
     "output_type": "stream",
     "text": [
      "Enter the score of a student:60\n",
      "Grade:B\n"
     ]
    }
   ],
   "source": [
    "score=float(input(\"Enter the score of a student:\"))\n",
    "if(score>=80):\n",
    "    print(\"Grade:A+\")\n",
    "elif(score>=75 and score<=79):\n",
    "    print(\"Grade:A\")\n",
    "elif(score>=70 and  score<=74):\n",
    "    print(\"Grade:A-\")\n",
    "elif(score>=65 and  score<=69):\n",
    "    print(\"Grade:B+\")\n",
    "elif(score>=60 and  score<=64):\n",
    "    print(\"Grade:B\")\n",
    "elif(score>=55 and  score<=59):\n",
    "    print(\"Grade:B-\")\n",
    "elif(score>=50 and  score<=54):\n",
    "    print(\"Grade:C+\")\n",
    "elif(score>=45 and  score<=49):\n",
    "    print(\"Grade:C\")\n",
    "elif(score>=40 and  score<=44):\n",
    "    print(\"Grade:D\")\n",
    "elif(score<40):\n",
    "    print(\"Grade:F\")"
   ]
  },
  {
   "cell_type": "markdown",
   "metadata": {},
   "source": [
    "<b>8. A certain grade of steel is graded according to the following conditions:\n",
    "1. Hardness must be greater than 60\n",
    "2. Carbon content must be less than 0.7\n",
    "3. Tensile strength must be greater than 5000\n",
    "<br>\n",
    "The grades are as follows:<br>\n",
    "    1. Grade is 10 if all three conditions are met<br>\n",
    "    2. Grade is 9 if condition (i) and (ii) are met<br>\n",
    "    3. Grade is 8 if condition (ii) and (iii) are met<br>\n",
    "    4. Grade is 7 if condition (i) and (iii) are met<br>\n",
    "    5. Grade is 6 if only one condition is met<br>\n",
    "    6. Grade is 5 if none of the conditions are met<br>\n",
    "<br>\n",
    "Write a program which will require the user to give values of hardness,\n",
    "carbon content and tensile strength of the steel under consideration and\n",
    "output the grade of the steel.</b>\n",
    "\n",
    "* Summary: FDetermines the grade of a steel from given conditios \n",
    "* Input: two numbers\n",
    "* Output: maximum and minimum values"
   ]
  },
  {
   "cell_type": "code",
   "execution_count": 25,
   "metadata": {},
   "outputs": [
    {
     "name": "stdout",
     "output_type": "stream",
     "text": [
      "What is the value of hardness:60\n",
      "What is the value of carbon:0.9\n",
      "What is the value of tensile:6000\n",
      "Grade: 6\n"
     ]
    }
   ],
   "source": [
    "hardness = float(input(\"What is the value of hardness:\"))\n",
    "carbon = float(input(\"What is the value of carbon:\"))\n",
    "tensile = float(input(\"What is the value of tensile:\"))\n",
    "if(hardness>60 and carbon<0.7 and tensile>5000):\n",
    "    print(\"Grade: 10\")\n",
    "elif(hardness>60 and carbon<0.7):\n",
    "    print(\"Grade: 9\")\n",
    "elif(carbon<0.7 and tensile>5000):\n",
    "    print(\"Grade: 8\")\n",
    "elif(hardness>60 and  tensile>5000):\n",
    "    print(\"Grade: 7\")\n",
    "elif(hardness>60 or carbon<0.7 or tensile>5000):\n",
    "    print(\"Grade: 6\")\n",
    "else:\n",
    "    print(\"Grade:5\")"
   ]
  },
  {
   "cell_type": "code",
   "execution_count": null,
   "metadata": {},
   "outputs": [],
   "source": []
  }
 ],
 "metadata": {
  "kernelspec": {
   "display_name": "Python 3",
   "language": "python",
   "name": "python3"
  },
  "language_info": {
   "codemirror_mode": {
    "name": "ipython",
    "version": 3
   },
   "file_extension": ".py",
   "mimetype": "text/x-python",
   "name": "python",
   "nbconvert_exporter": "python",
   "pygments_lexer": "ipython3",
   "version": "3.7.4"
  }
 },
 "nbformat": 4,
 "nbformat_minor": 4
}
