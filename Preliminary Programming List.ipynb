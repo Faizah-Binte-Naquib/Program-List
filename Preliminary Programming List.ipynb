{
 "cells": [
  {
   "cell_type": "markdown",
   "metadata": {},
   "source": [
    "<b>1. Write a program to print “Hellow World ! ”.</b>\n",
    "* Summary: Prints a string "
   ]
  },
  {
   "cell_type": "code",
   "execution_count": 3,
   "metadata": {},
   "outputs": [
    {
     "name": "stdout",
     "output_type": "stream",
     "text": [
      "Hellow World !\n"
     ]
    }
   ],
   "source": [
    "print(\"Hellow World !\")"
   ]
  },
  {
   "cell_type": "markdown",
   "metadata": {},
   "source": [
    "<b>2. Write a program to take input from keyboard.</b>\n",
    "* Summary: Takes keyboard input"
   ]
  },
  {
   "cell_type": "code",
   "execution_count": 4,
   "metadata": {},
   "outputs": [
    {
     "name": "stdout",
     "output_type": "stream",
     "text": [
      "Give Keyboard Input:abc\n",
      "abc\n"
     ]
    }
   ],
   "source": [
    "val= input(\"Give Keyboard Input:\")\n",
    "print(val)"
   ]
  },
  {
   "cell_type": "markdown",
   "metadata": {},
   "source": [
    "<b>3. The length and height of a rectangle and radius of a circle are input through the keyboard. Write a program to find the area & perimeter of the rectangle and the area & circumference of the circle.</b>"
   ]
  },
  {
   "cell_type": "code",
   "execution_count": 10,
   "metadata": {},
   "outputs": [
    {
     "name": "stdout",
     "output_type": "stream",
     "text": [
      "Lenght of a rectangle:1\n",
      "Height of a rectangle:2\n",
      "Radius of a circle:3\n",
      "Area of rectangle: 2.0\n",
      "Perimeter of rectangle: 6.0\n",
      "Area of circle: 28.274333882308138\n",
      "Circumference of circle: 18.84955592153876\n"
     ]
    }
   ],
   "source": [
    "import math\n",
    "length=float(input(\"Lenght of a rectangle:\"))\n",
    "height=float(input(\"Height of a rectangle:\"))\n",
    "radius=float(input(\"Radius of a circle:\"))\n",
    "\n",
    "rectangle_area=length*height\n",
    "rectangle_perimeter=2*length+2*height\n",
    "circle_area=math.pi*(radius**2)\n",
    "circle_circumference=2*math.pi*radius\n",
    "\n",
    "print(\"Area of rectangle:\",rectangle_area)\n",
    "print(\"Perimeter of rectangle:\",rectangle_perimeter)\n",
    "print(\"Area of circle:\",circle_area)\n",
    "print(\"Circumference of circle:\",circle_circumference)\n"
   ]
  },
  {
   "cell_type": "markdown",
   "metadata": {},
   "source": [
    "<b>4. Write a program which will show the use of all built-in mathematical functions in C (eg : power, square root, logarithmic, trigonometric etc.)</b>"
   ]
  },
  {
   "cell_type": "code",
   "execution_count": 29,
   "metadata": {},
   "outputs": [
    {
     "name": "stdout",
     "output_type": "stream",
     "text": [
      "ceil: 2\n",
      "floor: 1\n",
      "absolute value: 10.0\n",
      "gcd: 2\n",
      "mod: 1.0\n"
     ]
    }
   ],
   "source": [
    "# Number-theoretic and representation functions\n",
    "print(\"ceil:\", math.ceil(1.56)) #ceiling of 1.56\n",
    "print(\"floor:\", math.floor(1.56)) #floor of 1.56\n",
    "print(\"absolute value:\",math.fabs(-10)) #absolute value of -10\n",
    "print(\"gcd:\",math.gcd(2,4))\n",
    "print(\"mod:\",math.fmod(113,2)) # 113 modulo 2"
   ]
  },
  {
   "cell_type": "code",
   "execution_count": 38,
   "metadata": {},
   "outputs": [
    {
     "name": "stdout",
     "output_type": "stream",
     "text": [
      "exponential: 7.38905609893065\n",
      "log: 3.3219280948873626\n",
      "power: 4.0\n"
     ]
    }
   ],
   "source": [
    "#Power and logarithmic functions\n",
    "print(\"exponential:\",math.exp(2)) # e to the power 2\n",
    "print(\"log:\",math.log(10,2)) # log of 10 base 2\n",
    "print(\"power:\",math.pow(2,2)) #2 to the power 2"
   ]
  },
  {
   "cell_type": "code",
   "execution_count": 44,
   "metadata": {},
   "outputs": [
    {
     "name": "stdout",
     "output_type": "stream",
     "text": [
      "cosine: 1.2309594173407747\n",
      "sine: 0.3398369094541219\n",
      "tan: 0.3217505543966422\n"
     ]
    }
   ],
   "source": [
    "#Trigonometric functions\n",
    "x=60/180\n",
    "print(\"cosine:\",math.acos(x))\n",
    "print(\"sine:\",math.asin(x))\n",
    "print(\"tan:\",math.atan(x))"
   ]
  },
  {
   "cell_type": "markdown",
   "metadata": {},
   "source": [
    "<b>5. Rahim’s basic salary is input through the keyboard. His House rent allowance is 30% of basic salary and medical allowance is 5% of basic salary. He gets extra 1000 tk as technical allowance. Write a program to calculate his gross salary and print the result.</b>"
   ]
  },
  {
   "cell_type": "code",
   "execution_count": 47,
   "metadata": {},
   "outputs": [
    {
     "name": "stdout",
     "output_type": "stream",
     "text": [
      "Rahim's basic salary:100\n",
      "1135.0\n"
     ]
    }
   ],
   "source": [
    "salary=float(input(\"Rahim's basic salary:\"))\n",
    "rent= (salary*(30/100))\n",
    "med= (salary*(5/100))\n",
    "gross_salary= salary+rent+med+1000\n",
    "print(gross_salary)"
   ]
  },
  {
   "cell_type": "markdown",
   "metadata": {},
   "source": [
    "<b>6. The distance between AUST main campus and Rajshahi campus (in km) is input through keyboard. Write a program to convert and print this distance in meters, feet, inches and centimeters</b>"
   ]
  },
  {
   "cell_type": "code",
   "execution_count": 51,
   "metadata": {},
   "outputs": [
    {
     "name": "stdout",
     "output_type": "stream",
     "text": [
      "Enter distance between AUST and Rajshahi campus:5\n",
      "Distance in meter 5000.0\n",
      "Distance in feet 16404.2\n",
      "Distance in inches 196850.5\n",
      "Distance in centimeter 5000000.0\n"
     ]
    }
   ],
   "source": [
    "dist=  float(input(\"Enter distance between AUST and Rajshahi campus:\"))\n",
    "print(\"Distance in meter\",dist*1000)\n",
    "print(\"Distance in feet\",dist*3280.84)\n",
    "print(\"Distance in inches\",dist*39370.1)\n",
    "print(\"Distance in centimeter\",dist*1000000)"
   ]
  },
  {
   "cell_type": "markdown",
   "metadata": {},
   "source": [
    "<b>7. Temperature of a city in Fahrenheit degrees is input through the keyboard. Write a program to convert this temperature into centigrade degrees.</b>"
   ]
  },
  {
   "cell_type": "code",
   "execution_count": 53,
   "metadata": {},
   "outputs": [
    {
     "name": "stdout",
     "output_type": "stream",
     "text": [
      "Enter Temperature in farenheit:32\n",
      "Temperature in centigrade: 0.0\n"
     ]
    }
   ],
   "source": [
    "f= float(input(\"Enter Temperature in farenheit:\"))\n",
    "c=(f-32)*(5/9)\n",
    "print(\"Temperature in centigrade:\", c)"
   ]
  },
  {
   "cell_type": "markdown",
   "metadata": {},
   "source": [
    "<b>8. Two numbers are input through the keyboard into two locations A and B. Write a program to interchange the contents of A and B.</b>"
   ]
  },
  {
   "cell_type": "code",
   "execution_count": 54,
   "metadata": {},
   "outputs": [
    {
     "name": "stdout",
     "output_type": "stream",
     "text": [
      "Enter number:1\n",
      "Enter another number2\n",
      "Now A and B are: 2 1\n"
     ]
    }
   ],
   "source": [
    "A= int(input(\"Enter number:\"))\n",
    "B= int (input(\"Enter another number\"))\n",
    "temp=A\n",
    "A=B\n",
    "B=temp\n",
    "print(\"Now A and B are:\", A,B)"
   ]
  },
  {
   "cell_type": "markdown",
   "metadata": {},
   "source": [
    "<b>9. If marks obtained by a student in 5 different subjects are input from keyboard, find out the aggregate marks and percentage marks obtained by the student.</b>"
   ]
  },
  {
   "cell_type": "code",
   "execution_count": 62,
   "metadata": {},
   "outputs": [
    {
     "name": "stdout",
     "output_type": "stream",
     "text": [
      "Enter marks of subject 1:10\n",
      "Enter marks of subject 2:20\n",
      "Enter marks of subject 3:30\n",
      "Enter marks of subject 4:10\n",
      "Enter marks of subject 5:20\n",
      "Aggregate marks 90.0\n",
      "Percentage marks 0.9\n"
     ]
    }
   ],
   "source": [
    "sub1=float(input(\"Enter marks of subject 1:\"))\n",
    "sub2=float(input(\"Enter marks of subject 2:\"))\n",
    "sub3=float(input(\"Enter marks of subject 3:\"))\n",
    "sub4=float(input(\"Enter marks of subject 4:\"))\n",
    "sub5=float(input(\"Enter marks of subject 5:\"))\n",
    "total_marks= sub1+sub2+sub3+sub4+sub5\n",
    "perc_marks= total_marks*(1/100)\n",
    "print(\"Aggregate marks\",total_marks) \n",
    "print(\"Percentage marks\", perc_marks)"
   ]
  },
  {
   "cell_type": "markdown",
   "metadata": {},
   "source": [
    "<b>10. If a 5 digit number is input through the keyboard, write a program to calculate and print the sum of its digits.</b>"
   ]
  },
  {
   "cell_type": "code",
   "execution_count": 77,
   "metadata": {},
   "outputs": [
    {
     "name": "stdout",
     "output_type": "stream",
     "text": [
      "Enter a 5 digit number:12345\n",
      "15.0\n"
     ]
    }
   ],
   "source": [
    "num=int(input(\"Enter a 5 digit number:\"))\n",
    "num_1=num%10 #5th digit\n",
    "num=((num-num%10)/10)\n",
    "num_2=num%10 #4th digit\n",
    "num=((num-num%10)/10)\n",
    "num_3=num%10 #3rd digit\n",
    "num=((num-num%10)/10)\n",
    "num_4=num%10 #2nd digit\n",
    "num=((num-num%10)/10) #1st digit\n",
    "print(num_1+num_2+num_3+num_4+num)"
   ]
  },
  {
   "cell_type": "markdown",
   "metadata": {},
   "source": [
    "<b>11. If a 5 digit number is input through the keyboard, write a program to reverse the number.</b>"
   ]
  },
  {
   "cell_type": "code",
   "execution_count": 80,
   "metadata": {},
   "outputs": [
    {
     "name": "stdout",
     "output_type": "stream",
     "text": [
      "Enter a 5 digit number:12345\n",
      "54321.0\n"
     ]
    }
   ],
   "source": [
    "num = int(input(\"Enter a 5 digit number:\"))\n",
    "num_1=num%10 #5th digit\n",
    "num=((num-num%10)/10)\n",
    "num_2=num%10 #4th digit\n",
    "num=((num-num%10)/10)\n",
    "num_3=num%10 #3rd digit\n",
    "num=((num-num%10)/10)\n",
    "num_4=num%10 #2nd digit\n",
    "num=((num-num%10)/10) #1st digit\n",
    "print(num_1*10000+num_2*1000+num_3*100+num_4*10+num*1)"
   ]
  },
  {
   "cell_type": "markdown",
   "metadata": {},
   "source": [
    "<b>12. If a 4 digit number is input through the keyboard, write a program to obtain the sum of the first and last digit of this number.</b>"
   ]
  },
  {
   "cell_type": "code",
   "execution_count": 82,
   "metadata": {},
   "outputs": [
    {
     "name": "stdout",
     "output_type": "stream",
     "text": [
      "Enter a 4 digit number:1234\n",
      "5.0\n"
     ]
    }
   ],
   "source": [
    "num = int(input(\"Enter a 4 digit number:\"))\n",
    "num_1=num%10 #4th digit\n",
    "num=((num-num%10)/10)\n",
    "num_2=num%10 #3rd digit\n",
    "num=((num-num%10)/10)\n",
    "num_3=num%10 #2nd digit\n",
    "num=((num-num%10)/10) #1st digit\n",
    "print(num_1+num)"
   ]
  },
  {
   "cell_type": "code",
   "execution_count": null,
   "metadata": {},
   "outputs": [],
   "source": []
  }
 ],
 "metadata": {
  "kernelspec": {
   "display_name": "Python 3",
   "language": "python",
   "name": "python3"
  },
  "language_info": {
   "codemirror_mode": {
    "name": "ipython",
    "version": 3
   },
   "file_extension": ".py",
   "mimetype": "text/x-python",
   "name": "python",
   "nbconvert_exporter": "python",
   "pygments_lexer": "ipython3",
   "version": "3.7.4"
  }
 },
 "nbformat": 4,
 "nbformat_minor": 4
}
