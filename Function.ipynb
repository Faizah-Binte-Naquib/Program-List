{
 "cells": [
  {
   "cell_type": "markdown",
   "metadata": {},
   "source": [
    "### 1. Write a function to calculate the factorial value of any integer entered through the keyboard.\n",
    "* Function: factorial()\n",
    "* Summary: Finds factorial of an integer\n",
    "* Input: n\n",
    "* Output: factorial"
   ]
  },
  {
   "cell_type": "code",
   "execution_count": 12,
   "metadata": {},
   "outputs": [
    {
     "name": "stdout",
     "output_type": "stream",
     "text": [
      "Enter a value:4\n",
      "The factorial is: 24\n"
     ]
    }
   ],
   "source": [
    "def factorial(n):\n",
    "    if n == 1:\n",
    "        return n\n",
    "    else:\n",
    "        return n*factorial(n-1)\n",
    "\n",
    "num=int(input(\"Enter a value:\"))\n",
    "print(\"The factorial is:\",factorial(num))"
   ]
  },
  {
   "cell_type": "markdown",
   "metadata": {},
   "source": [
    "### 2. Write a function power(a,b) to calculate the value of a raised to b. \n",
    "* Function: power()\n",
    "* Summary: Finds a^b\n",
    "* Input: a and b\n",
    "* Output: a^b"
   ]
  },
  {
   "cell_type": "code",
   "execution_count": 16,
   "metadata": {},
   "outputs": [
    {
     "name": "stdout",
     "output_type": "stream",
     "text": [
      "81\n"
     ]
    }
   ],
   "source": [
    "def power(n,p):\n",
    "    if p==0:\n",
    "        return 1\n",
    "    elif p==1:\n",
    "        return n\n",
    "    else:\n",
    "        return n*power(n,p-1)\n",
    "\n",
    "print(power(3,4))"
   ]
  },
  {
   "cell_type": "markdown",
   "metadata": {},
   "source": [
    "### 5. Any year is entered through the keyboard. Write a function to determine whether the year is a leap year or not.\n",
    "* Function: leap year\n",
    "* Summary: determines if leap year or not\n",
    "* Input: year\n",
    "* Output: Leap year of not a leap year"
   ]
  },
  {
   "cell_type": "code",
   "execution_count": 18,
   "metadata": {},
   "outputs": [
    {
     "name": "stdout",
     "output_type": "stream",
     "text": [
      "Enter a year:2020\n",
      "Not a Leap Year\n"
     ]
    }
   ],
   "source": [
    "year=int(input(\"Enter a year:\"))\n",
    "def leap_year(year):\n",
    "    if(year%4==0 & year%100==0 and year%400==0):\n",
    "        print(\"Leap Year\")\n",
    "    else:\n",
    "        print(\"Not a Leap Year\")\n",
    "leap_year(year)"
   ]
  },
  {
   "cell_type": "markdown",
   "metadata": {},
   "source": [
    "### 6. A prime integer is entered through the keyboard. Write a function to obtain the prime factors of this number. For example, prime factors of 24 are 2, 2, 2 and 3 whereas prime factor of 35 are 5 and 7.\n",
    "\n",
    "* Function: find_prime()\n",
    "* Summary: Determines if prime or not\n",
    "* Input: number\n",
    "* Output: prints value if prime"
   ]
  },
  {
   "cell_type": "code",
   "execution_count": 50,
   "metadata": {},
   "outputs": [
    {
     "name": "stdout",
     "output_type": "stream",
     "text": [
      "2\n",
      "2\n",
      "2\n",
      "3\n"
     ]
    }
   ],
   "source": [
    "def find_prime(num):\n",
    "    flag=0\n",
    "    if(num==2):\n",
    "        print(num)\n",
    "    for i in range(2,num): \n",
    "        if ((num % i) == 0): \n",
    "            flag=2\n",
    "            break  \n",
    "        if(flag!=2):\n",
    "            print(num)\n",
    "        \n",
    "        \n",
    "num=24\n",
    "for i in range(2,num): \n",
    "    while((num % i) == 0):\n",
    "        num=num/i\n",
    "        find_prime(i)"
   ]
  },
  {
   "cell_type": "markdown",
   "metadata": {},
   "source": [
    "### 7. Write a function which receives a float and an int from main(), finds the product of these two and returns the product which is printed through main().\n",
    "\n",
    "* Function: product()\n",
    "* Summary: finds product of two numbers\n",
    "* Input: a,b\n",
    "* Output: product\n",
    "_________________\n",
    "\n",
    "* Function: main()\n",
    "* Summary: takes input of two numbers and print product\n",
    "* Input: a,b\n",
    "* Output: product"
   ]
  },
  {
   "cell_type": "code",
   "execution_count": 52,
   "metadata": {},
   "outputs": [
    {
     "name": "stdout",
     "output_type": "stream",
     "text": [
      "Enter a float value:2.5\n",
      "Enter an integer value:2\n",
      "5.0\n"
     ]
    }
   ],
   "source": [
    "def product(a,b):\n",
    "    prod=a*b\n",
    "    return prod\n",
    "def main():\n",
    "    a=float(input(\"Enter a float value:\"))\n",
    "    b=int(input(\"Enter an integer value:\"))\n",
    "    ans=product(a,b)\n",
    "    print(ans)\n",
    "main()"
   ]
  },
  {
   "cell_type": "markdown",
   "metadata": {},
   "source": [
    "### 8. Write a program which receives 5 integers and returns the sum , average and standard deviation of these numbers. Call this function from main() and print the results in main().\n",
    "\n",
    "* Function: func()\n",
    "* Summary: finds sum, average and standard deviation\n",
    "* Input: a,b,c,d,e\n",
    "* Output: sum, average and standard deviation\n",
    "\n",
    "____\n",
    "\n",
    "* Function: main()\n",
    "* Summary: takes input of five digit and prints their sum, avg, standard deviation\n",
    "* Input: a,b,c,d,e\n",
    "* Output: prints sum, average and standard deviation"
   ]
  },
  {
   "cell_type": "code",
   "execution_count": 64,
   "metadata": {},
   "outputs": [],
   "source": [
    "import math\n",
    "def func(a,b,c,d,e):\n",
    "    sum=a+b+c+d+e\n",
    "\n",
    "    avg=sum/5\n",
    "\n",
    "    sd= math.sqrt((pow(a-avg,2)+pow(b-avg,2)+pow(c-avg,2)+pow(d-avg,2)+pow(e-avg,2))/5)\n",
    "    return sum,avg,sd\n",
    "                                          \n",
    "def main():\n",
    "    a=int(input(\"Enter a first value:\"))\n",
    "    b=int(input(\"Enter a second value:\"))\n",
    "    c=int(input(\"Enter a third value:\"))\n",
    "    d=int(input(\"Enter a fourth value:\"))\n",
    "    e=int(input(\"Enter a fifth value:\"))\n",
    "    \n",
    "    tuple=func(a,b,c,d,e)\n",
    "    print(\"Sum is\",tuple[0])\n",
    "    print(\"Avg is\",tuple[1])\n",
    "    print(\"Standard deviation is\",tuple[2])"
   ]
  },
  {
   "cell_type": "code",
   "execution_count": 65,
   "metadata": {},
   "outputs": [
    {
     "name": "stdout",
     "output_type": "stream",
     "text": [
      "Enter a first value:1\n",
      "Enter a second value:2\n",
      "Enter a third value:3\n",
      "Enter a fourth value:4\n",
      "Enter a fifth value:5\n",
      "Sum is 15\n",
      "Avg is 3.0\n",
      "Standard deviation is 1.4142135623730951\n"
     ]
    }
   ],
   "source": [
    "main()"
   ]
  },
  {
   "cell_type": "markdown",
   "metadata": {},
   "source": [
    "### 9. A 5 digit positive integer is entered through the keyboard, write a function to calculate sum of digits of the 5 digit number \n",
    "<b> 1. Using recursion</b> \n",
    "<b> 2. Without using recursion</b>\n",
    "\n",
    "* Function: rec_sum_of_digit()\n",
    "* Summary: finds summation recursively\n",
    "* Input: n\n",
    "* Output: sum\n",
    "\n",
    "_____\n",
    "\n",
    "* Function: nonrec_sum_of_digit()\n",
    "* Summary: finds summation non-recursively\n",
    "* Input: n\n",
    "* Output: sum"
   ]
  },
  {
   "cell_type": "code",
   "execution_count": 69,
   "metadata": {},
   "outputs": [
    {
     "name": "stdout",
     "output_type": "stream",
     "text": [
      "Sum of digits with nonrecursion 15\n",
      "Sum of digits with recursion 15\n"
     ]
    }
   ],
   "source": [
    "def rec_sum_of_digit(n):\n",
    "    if n == 0:\n",
    "        return 0\n",
    "    return (n % 10 + sum_of_digit(int(n / 10)))\n",
    "\n",
    "def nonrec_sum_of_digit(n):\n",
    "    sum = 0\n",
    "    for i in range(0,n):\n",
    "        a = int(n%10) #obtaining the last digit\n",
    "        sum = sum + a #summing up the digits\n",
    "        n = n / 10 #decreasing the number by one digit\n",
    "    return (sum)\n",
    "\n",
    "num = 12345\n",
    "result = nonrec_sum_of_digit(num)\n",
    "print(\"Sum of digits with nonrecursion\", result)\n",
    "result = rec_sum_of_digit(num)\n",
    "print(\"Sum of digits with recursion\", result)"
   ]
  },
  {
   "cell_type": "markdown",
   "metadata": {},
   "source": [
    "### 10. A positive integer is entered through the keyboard, write a program to obtain the prime factors of the number. Modify the function suitability to obtain the prime factors recursively.\n",
    "\n",
    "* Function: isPrime()\n",
    "* Summary: Determines the prime factors of a number \n",
    "* Input: n\n",
    "* Output: prime factors"
   ]
  },
  {
   "cell_type": "code",
   "execution_count": 81,
   "metadata": {},
   "outputs": [
    {
     "name": "stdout",
     "output_type": "stream",
     "text": [
      "2\n",
      "2\n",
      "2\n",
      "3\n"
     ]
    }
   ],
   "source": [
    "def isPrime(n, i = 2): \n",
    "  \n",
    "\n",
    "    if (n <= 2): \n",
    "        if(n == 2):\n",
    "            print(n)\n",
    "        else:\n",
    "            return False\n",
    "    if (n % i == 0): \n",
    "        return False\n",
    "    if (i * i > n): \n",
    "        print(n) \n",
    "  \n",
    "\n",
    "    return isPrime(n, i + 1) \n",
    "  \n",
    "  \n",
    "\n",
    "num=24\n",
    "\n",
    "for i in range(2,num): \n",
    "    while((num % i) == 0):\n",
    "        num=num/i\n",
    "        isPrime(i)"
   ]
  },
  {
   "cell_type": "markdown",
   "metadata": {},
   "source": [
    "### 11. Write a recursive function to obtain the first 25 numbers of a Fibonacci sequence. In a Fibonacci sequences the sum of two successive terms given the third term. Following are the first few term of the Fibonacci sequence: 1 1 2 3 5 8 13 21 34 55…\n",
    "\n",
    "* Function: fibonacci()\n",
    "* Summary: finds fibonaci numbers recursively \n",
    "* Input: n\n",
    "* Output: fibonacci numbers "
   ]
  },
  {
   "cell_type": "code",
   "execution_count": 3,
   "metadata": {},
   "outputs": [
    {
     "name": "stdout",
     "output_type": "stream",
     "text": [
      "Fibonacci sequence:\n",
      "0 1 1 2 3 5 8 13 21 34 55 89 144 233 377 610 987 1597 2584 4181 6765 10946 17711 28657 46368 "
     ]
    }
   ],
   "source": [
    "def fibonacci(n):\n",
    "    if n <= 1:\n",
    "        return n\n",
    "    else:\n",
    "        return (fibonacci(n-1) + fibonacci(n-2))\n",
    "\n",
    "nterms = 25\n",
    "\n",
    "\n",
    "print(\"Fibonacci sequence:\")\n",
    "for i in range(nterms):\n",
    "       print(fibonacci(i),end=\" \")"
   ]
  },
  {
   "cell_type": "code",
   "execution_count": null,
   "metadata": {},
   "outputs": [],
   "source": []
  }
 ],
 "metadata": {
  "kernelspec": {
   "display_name": "Python 3",
   "language": "python",
   "name": "python3"
  },
  "language_info": {
   "codemirror_mode": {
    "name": "ipython",
    "version": 3
   },
   "file_extension": ".py",
   "mimetype": "text/x-python",
   "name": "python",
   "nbconvert_exporter": "python",
   "pygments_lexer": "ipython3",
   "version": "3.7.4"
  }
 },
 "nbformat": 4,
 "nbformat_minor": 4
}
