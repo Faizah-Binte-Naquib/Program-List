{
 "cells": [
  {
   "cell_type": "markdown",
   "metadata": {},
   "source": [
    "### 1. Write a program to search for an element from an array input from the user.\n",
    "* Summary: Finds a specific character in a given string\n",
    "* Input: \n",
    "    1. string\n",
    "    2. character\n",
    "* Output: Found or None"
   ]
  },
  {
   "cell_type": "code",
   "execution_count": 5,
   "metadata": {},
   "outputs": [
    {
     "name": "stdout",
     "output_type": "stream",
     "text": [
      "Enter an array:i am fai\n",
      "Enter an element you are willing to find:m\n",
      "Found\n"
     ]
    }
   ],
   "source": [
    "string=input(\"Enter an array:\")\n",
    "element=input(\"Enter an element you are willing to find:\")\n",
    "for i in string:\n",
    "    if(element==i):\n",
    "        print(\"Found\")\n",
    "        break"
   ]
  },
  {
   "cell_type": "markdown",
   "metadata": {},
   "source": [
    "### 2. Inserting an element into a position of an array. The element and the insertion point are inputs from the user.\n",
    "* Summary: Insert an element in an array at any given index\n",
    "* Input: \n",
    "    1. array\n",
    "    2. index number\n",
    "* Output: updated array"
   ]
  },
  {
   "cell_type": "code",
   "execution_count": 10,
   "metadata": {},
   "outputs": [
    {
     "name": "stdout",
     "output_type": "stream",
     "text": [
      "Existing String [1, 2, 3, 4, 5, 6, 7]\n",
      "What to be inserted:5\n",
      "Index at which to be inserted:3\n",
      "Updated String [1, 2, 3, '5', 4, 5, 6, 7]\n",
      "None\n"
     ]
    }
   ],
   "source": [
    "string=[1,2,3,4,5,6,7] #input array\n",
    "print(\"Existing String\",string)\n",
    "element=input(\"What to be inserted:\")\n",
    "index=int(input(\"Index at which to be inserted:\"))\n",
    "string.insert(index,element)\n",
    "print(\"Updated String\",string)"
   ]
  },
  {
   "cell_type": "markdown",
   "metadata": {},
   "source": [
    "### 3. Inserting a number/character into the proper position of an array which is sorted in ascending/descending order.\n",
    "\n",
    "* Summary: Sorts an array in ascending order and places a given number in such a manner that the order is maintained\n",
    "* Input: \n",
    "    1. array\n",
    "    2. number\n",
    "* Output: updated array"
   ]
  },
  {
   "cell_type": "code",
   "execution_count": 6,
   "metadata": {},
   "outputs": [
    {
     "name": "stdout",
     "output_type": "stream",
     "text": [
      "Enter value:5\n",
      "[0, 2, 2, 3, 5, 5, 6, 7, 8, 9, 9]\n"
     ]
    }
   ],
   "source": [
    "array=[7,9,3,6,5,2,9,0,8,2] #input array\n",
    "array.sort()\n",
    "element=int(input(\"Enter value:\"))\n",
    "index=0\n",
    "for i in array:\n",
    "    if(element<=i):\n",
    "        array.insert(index,element)\n",
    "        break\n",
    "    index=index+1\n",
    "print(array)"
   ]
  },
  {
   "cell_type": "markdown",
   "metadata": {},
   "source": [
    "### 4. Deleting an element from an array.\n",
    "* Summary: Deletes an input element from a given array\n",
    "* Input: \n",
    "    1. element\n",
    "* Output: updated array"
   ]
  },
  {
   "cell_type": "code",
   "execution_count": 21,
   "metadata": {},
   "outputs": [
    {
     "name": "stdout",
     "output_type": "stream",
     "text": [
      "Enter value:7\n",
      "[9, 3, 6, 5, 2, 9, 0, 8, 2]\n"
     ]
    }
   ],
   "source": [
    "array=[7,9,3,6,5,2,9,0,8,2] #input array\n",
    "print(\"Original Array:\",array)\n",
    "element=int(input(\"Enter value:\"))\n",
    "array.remove(element)\n",
    "print(\"Updated Array:\",array)"
   ]
  },
  {
   "cell_type": "markdown",
   "metadata": {},
   "source": [
    "### 5. Write a program to find out the maximum, minimum, median and mode of an array of numbers.\n",
    "* Summary: Determines the maximum, minimum, median and mode of a given array\n",
    "* Input: \n",
    "* Output: maximum, minimum, median and mode"
   ]
  },
  {
   "cell_type": "code",
   "execution_count": 11,
   "metadata": {},
   "outputs": [
    {
     "name": "stdout",
     "output_type": "stream",
     "text": [
      "Maximum: 9\n",
      "Minimum: 0\n",
      "Mean: 5.1\n"
     ]
    }
   ],
   "source": [
    "array=[7,9,3,6,5,2,9,0,8,2] #input array\n",
    "\n",
    "#Max\n",
    "print(\"Maximum:\",max(array))\n",
    "\n",
    "#Min\n",
    "print(\"Minimum:\",min(array))\n",
    "\n",
    "#Mean\n",
    "sum=0\n",
    "for i in array:\n",
    "    sum=sum+i\n",
    "mean=sum/len(array)\n",
    "print(\"Mean:\",mean)"
   ]
  },
  {
   "cell_type": "code",
   "execution_count": 8,
   "metadata": {},
   "outputs": [
    {
     "name": "stdout",
     "output_type": "stream",
     "text": [
      "Median: 5.5\n"
     ]
    }
   ],
   "source": [
    "#Median\n",
    "if(len(array)%2==0):\n",
    "    middle_1=int(len(array)/2)\n",
    "    middle_2=int(len(array)/2)+1\n",
    "    median=(array[middle_1]+array[middle_2])/2\n",
    "else:\n",
    "    median=array[math.ceil(len(array)/2)]\n",
    "print(\"Median:\",median)"
   ]
  },
  {
   "cell_type": "code",
   "execution_count": 9,
   "metadata": {},
   "outputs": [
    {
     "name": "stdout",
     "output_type": "stream",
     "text": [
      "Mode: 9 2 "
     ]
    }
   ],
   "source": [
    "#Mode\n",
    "dict={}\n",
    "count=0\n",
    "for i in array:\n",
    "    for j in array:\n",
    "        if(i==j):\n",
    "            count=count+1\n",
    "    dict[i]=count\n",
    "    count=0\n",
    "print(\"Mode:\",end=\" \")\n",
    "max_value = max(dict.values()) \n",
    "for i in dict.items():\n",
    "    if(i[1]==max_value):\n",
    "        print(i[0],end=\" \")"
   ]
  },
  {
   "cell_type": "markdown",
   "metadata": {},
   "source": [
    "### 6. Find k-th maximum and k-th minimum from an array.\n",
    "* Summary: Finds the kth minimum and maximum value in an array\n",
    "* Input: k\n",
    "* Output: kth minimum and kth maximum term"
   ]
  },
  {
   "cell_type": "code",
   "execution_count": 81,
   "metadata": {},
   "outputs": [
    {
     "name": "stdout",
     "output_type": "stream",
     "text": [
      "Enter value of k:3\n",
      "Kth min term 7\n",
      "Kth max term 10\n"
     ]
    }
   ],
   "source": [
    "arr=[7,10,4,3,20,15] #input array\n",
    "k=int(input(\"Enter value of k:\"))\n",
    "asc_arr=sorted(arr)\n",
    "desc_arr=sorted(arr,reverse=True)\n",
    "print(\"Kth min term\",asc_arr[k-1])\n",
    "print(\"Kth max term\",desc_arr[k-1])"
   ]
  },
  {
   "cell_type": "markdown",
   "metadata": {},
   "source": [
    "### 7. Write a program to delete duplicate elements from an array.\n",
    "* Summary: Finds the duplicate of a term and deletes it\n",
    "* Input: \n",
    "* Output: updated array"
   ]
  },
  {
   "cell_type": "code",
   "execution_count": 99,
   "metadata": {},
   "outputs": [
    {
     "name": "stdout",
     "output_type": "stream",
     "text": [
      "[7, 3, 6, 5, 9, 0, 8, 2]\n"
     ]
    }
   ],
   "source": [
    "array=[7,9,3,6,5,2,9,0,8,2] #input array\n",
    "dict={}\n",
    "count=0\n",
    "for i in array:\n",
    "    for j in array:\n",
    "        if(i==j):\n",
    "            count=count+1\n",
    "    dict[i]=count #stores the number of times an element is found, and the element is taken as key\n",
    "    count=0\n",
    "for i in dict.items():\n",
    "    if(i[1]>=2):\n",
    "        for j in range(1,i[1]):\n",
    "            array.remove(i[0])\n",
    "            \n",
    "print(array)"
   ]
  },
  {
   "cell_type": "markdown",
   "metadata": {},
   "source": [
    "### 8. Write a program to find the common characters from two arrays.\n",
    "* Summary: Finds common characters between two arrays\n",
    "* Input: \n",
    "* Output: outputs all the common characters "
   ]
  },
  {
   "cell_type": "code",
   "execution_count": 102,
   "metadata": {},
   "outputs": [
    {
     "name": "stdout",
     "output_type": "stream",
     "text": [
      "9\n",
      "2\n",
      "0\n",
      "8\n"
     ]
    }
   ],
   "source": [
    "array1=[7,9,3,6,5,2,9,0,8,2] #input array 1\n",
    "array2=[10,11,12,13,14,12,9,0,8,2] #input array 2\n",
    "dict={}\n",
    "count=0\n",
    "for i in array1:\n",
    "    for j in array2:\n",
    "        if(i==j):\n",
    "            count=count+1\n",
    "    dict[i]=count\n",
    "    count=0\n",
    "for i in dict.items():\n",
    "    if(i[1]>=1):\n",
    "        print(i[0])\n",
    "            \n",
    "#print(array)"
   ]
  },
  {
   "cell_type": "markdown",
   "metadata": {},
   "source": [
    "### 9. Take a string as input and print the characters in reverse order. Don’t use any built in string function.\n",
    "* Summary: Reverses a given string \n",
    "* Input: string\n",
    "* Output: outputs the string in reverse order"
   ]
  },
  {
   "cell_type": "code",
   "execution_count": 105,
   "metadata": {},
   "outputs": [
    {
     "name": "stdout",
     "output_type": "stream",
     "text": [
      "Enter a string:i am fai\n",
      "iaf ma i\n"
     ]
    }
   ],
   "source": [
    "string=input(\"Enter a string:\")\n",
    "rev_string=\"\"\n",
    "for i in string:\n",
    "    rev_string=i+rev_string\n",
    "print(rev_string)"
   ]
  },
  {
   "cell_type": "markdown",
   "metadata": {},
   "source": [
    "### 10. Write a program to merge two arrays removing the duplicate elements.\n",
    "* Summary: Removes the duplicates between two arrays and merges them\n",
    "* Input: \n",
    "* Output: outputs the updtaes merged array"
   ]
  },
  {
   "cell_type": "code",
   "execution_count": 113,
   "metadata": {},
   "outputs": [
    {
     "name": "stdout",
     "output_type": "stream",
     "text": [
      "[0, 2, 3, 5, 6, 7, 8, 9, 10, 11, 12, 13, 14]\n"
     ]
    }
   ],
   "source": [
    "array1=[7,9,3,6,5,2,9,0,8,2] #input array 1\n",
    "array2=[10,11,12,13,14,12,9,0,8,2] #input array 2\n",
    "first_array=set(array1) #converts to set\n",
    "second_array=set(array2) #converts to set\n",
    "\n",
    " #subtracts one from the other to remove the common elements\n",
    "removing_duplicates_array2=second_array-first_array\n",
    "\n",
    "#merges the updated array2 with array 1\n",
    "first_array.update(removing_duplicates_array2) \n",
    "\n",
    "print(list(first_array))"
   ]
  },
  {
   "cell_type": "markdown",
   "metadata": {},
   "source": [
    "### 11. Take a string as input and check whether it is a Palindrome. If it is not a palindrome, then add minimum no. of character after the string to convert it into a palindrome.\n",
    "* Summary: Checks to see if a string is palindrome, if not then converts it into one\n",
    "* Input: string\n",
    "* Output: \n",
    "    1. States \"palndrom\" if string is palyndrom \n",
    "    2. else prints the converted palindrom"
   ]
  },
  {
   "cell_type": "code",
   "execution_count": 120,
   "metadata": {},
   "outputs": [
    {
     "name": "stdout",
     "output_type": "stream",
     "text": [
      "drord\n"
     ]
    }
   ],
   "source": [
    "string=\"dro\"\n",
    "rev_string=\"\"\n",
    "def string_rev(string):\n",
    "    rev_string=\"\"\n",
    "    for i in string:\n",
    "        rev_string=i+rev_string\n",
    "    return rev_string\n",
    "    \n",
    "rev_string=string_rev(string)   \n",
    "if(string==rev_string):\n",
    "    print(\"plaindrom\")\n",
    "else:\n",
    "    for i in range(1,len(rev_string)):\n",
    "        string=string+rev_string[i]\n",
    "        if(string==string_rev(string)):\n",
    "            break\n",
    "        \n",
    "\n",
    "print(string)        "
   ]
  },
  {
   "cell_type": "markdown",
   "metadata": {},
   "source": [
    "### 12. Write a program to merge two sorted arrays.\n",
    "* Summary: Merges and sorts two arrays\n",
    "* Input: \n",
    "* Output: opdated merged array"
   ]
  },
  {
   "cell_type": "code",
   "execution_count": 1,
   "metadata": {},
   "outputs": [
    {
     "name": "stdout",
     "output_type": "stream",
     "text": [
      "The combined sorted list is : [1, 3, 4, 5, 6, 7, 8, 9, 10, 11]\n"
     ]
    }
   ],
   "source": [
    "test_list1 = [1, 5, 6, 9, 11]\n",
    "test_list2 = [3, 4, 7, 8, 10]\n",
    "   \n",
    "# to combine two sorted lists\n",
    "res = sorted(test_list1 + test_list2)\n",
    "  \n",
    "print (\"The combined sorted list is : \" + str(res))"
   ]
  },
  {
   "cell_type": "markdown",
   "metadata": {},
   "source": [
    "### 13. Write a program to count the frequencies of each character present in a text. (In addition to alphabet letters, count also the space, tab and punctuation letters)\n",
    "* Summary: Counts the number of times a character apears in a string \n",
    "* Input: string\n",
    "* Output: Count of all characters"
   ]
  },
  {
   "cell_type": "code",
   "execution_count": 2,
   "metadata": {},
   "outputs": [
    {
     "name": "stdout",
     "output_type": "stream",
     "text": [
      "Count of all characters:{'A': 1, ' ': 1, 't': 3, 'e': 1, 's': 2, 'i': 2, 'n': 2, 'g': 2, 'r': 1}\n"
     ]
    }
   ],
   "source": [
    "# initializing string \n",
    "test_str = \"A testingstring\"\n",
    "  \n",
    "\n",
    "# of each element in string \n",
    "all_freq = {}\n",
    "  \n",
    "for i in test_str:\n",
    "    if i in all_freq:\n",
    "        all_freq[i] += 1\n",
    "    else:\n",
    "        all_freq[i] = 1\n",
    "  \n",
    "\n",
    "\n",
    "print (\"Count of all characters:\"+  str(all_freq))"
   ]
  },
  {
   "cell_type": "markdown",
   "metadata": {},
   "source": [
    "### 14. Write a program to count the number of letters and words within a text.\n",
    "* Summary: Counts the total number of words and characters present in a string \n",
    "* Input:\n",
    "* Output: \n",
    "    1. Total number of words\n",
    "    2. Total number of characters "
   ]
  },
  {
   "cell_type": "code",
   "execution_count": 7,
   "metadata": {},
   "outputs": [
    {
     "name": "stdout",
     "output_type": "stream",
     "text": [
      "Number of words 3\n",
      "Number of characters 14\n"
     ]
    }
   ],
   "source": [
    "test_str = \"A testing string\"\n",
    "\n",
    "\n",
    "words=(test_str.split())\n",
    "print(\"Number of words\",len(words))\n",
    "\n",
    "count=0\n",
    "for i in test_str:\n",
    "    count=count+1\n",
    "    if(i==' '):\n",
    "        count=count-1\n",
    "        \n",
    "print(\"Number of characters\",count)"
   ]
  },
  {
   "cell_type": "markdown",
   "metadata": {},
   "source": [
    "## 15. Write a program which will search for a substring within a string.\n",
    "* Summary: Searches for a substring in a string \n",
    "* Input: \n",
    "* Output: \n",
    "    1. Prints found if found\n",
    "    2. else nothing\n"
   ]
  },
  {
   "cell_type": "code",
   "execution_count": 8,
   "metadata": {},
   "outputs": [
    {
     "name": "stdout",
     "output_type": "stream",
     "text": [
      "found\n"
     ]
    }
   ],
   "source": [
    "test_str = \"A testing string\"\n",
    "\n",
    "word=\"string\"\n",
    "sentence=(test_str.split())\n",
    "\n",
    "for i in sentence:\n",
    "    if(i==word):\n",
    "        print('found')"
   ]
  },
  {
   "cell_type": "markdown",
   "metadata": {},
   "source": [
    "### 16. Take n numbers as input from the user. Find out their GCD (Greatest Common Divisor) and LCM (Least Common Multiple).\n",
    "* Summary: Determines LCM and GCD "
   ]
  },
  {
   "cell_type": "markdown",
   "metadata": {},
   "source": [
    "* Function: find_gcd\n",
    "* Input: two numbers taken from the array\n",
    "* Output: prints gcd"
   ]
  },
  {
   "cell_type": "code",
   "execution_count": 4,
   "metadata": {},
   "outputs": [
    {
     "name": "stdout",
     "output_type": "stream",
     "text": [
      "2\n"
     ]
    }
   ],
   "source": [
    "def find_gcd(num1,num2):\n",
    "    # the greate number is set as num while the other is set as denominator\n",
    "    if(num1>num2):\n",
    "        num=num1\n",
    "        den=num2\n",
    "    else:\n",
    "        num=num2\n",
    "        den=num1\n",
    "        \n",
    "    #the remainder obtained from the num and denominator is stored \n",
    "    rem=num%den\n",
    "    \n",
    "    #is performed until remainder=0 is obtained\n",
    "    while(rem!=0):\n",
    "        num=den\n",
    "        den=rem\n",
    "        rem= num%den\n",
    "        \n",
    "    gcd = den\n",
    "\n",
    "    return gcd\n",
    "\n",
    "\n",
    "array = [2, 4, 6, 8, 16]\n",
    " \n",
    "num1 = array[0]\n",
    "num2 = array[1]\n",
    "gcd = find_gcd(num1, num2)\n",
    " \n",
    "for i in range(2, len(array)):\n",
    "    gcd = find_gcd(gcd, array[i])\n",
    "     \n",
    "print(gcd)"
   ]
  },
  {
   "cell_type": "markdown",
   "metadata": {},
   "source": [
    "* Function: find_lcm\n",
    "* Input: two numbers taken from the array\n",
    "* Output: prints lcm"
   ]
  },
  {
   "cell_type": "code",
   "execution_count": 12,
   "metadata": {},
   "outputs": [
    {
     "name": "stdout",
     "output_type": "stream",
     "text": [
      "252\n"
     ]
    }
   ],
   "source": [
    "def find_lcm(num1,num2):\n",
    "    # the greate number is set as num while the other is set as denominator\n",
    "    if(num1>num2):\n",
    "        num=num1\n",
    "        den=num2\n",
    "    else:\n",
    "        num=num2\n",
    "        den=num1\n",
    "        \n",
    "    #the remainder obtained from the num and denominator is stored \n",
    "    rem=num%den\n",
    "    \n",
    "    #is performed until remainder=0 is obtained\n",
    "    while(rem!=0):\n",
    "        num=den\n",
    "        den=rem\n",
    "        rem= num%den\n",
    "        \n",
    "    gcd = den\n",
    "    \n",
    "    #converting gcd to lcm\n",
    "    lcm = int(int(num1*num2)/int(gcd))\n",
    "    return lcm\n",
    "     \n",
    "array = [2, 7, 3, 9, 4]\n",
    " \n",
    "num1 = array[0]\n",
    "num2 = array[1]\n",
    "lcm = find_lcm(num1, num2)\n",
    " \n",
    "for i in range(2, len(array)):\n",
    "    lcm = find_lcm(lcm, array[i])\n",
    "     \n",
    "print(lcm)"
   ]
  },
  {
   "cell_type": "markdown",
   "metadata": {},
   "source": [
    "### 17. Write a program to Add/Subtract two different Matrices, input from the user.\n",
    "\n",
    "* Summary: Adds and subtracts two matrices \n",
    "* Input:\n",
    "    1. numbe of rows\n",
    "    2. number of columns\n",
    "    3. matrix 1\n",
    "    4. matrix 2\n",
    "* Output: \n",
    "    1. Summation of the two matrix \n",
    "    2. Subtraction of one matrix from the other "
   ]
  },
  {
   "cell_type": "code",
   "execution_count": 11,
   "metadata": {},
   "outputs": [
    {
     "name": "stdout",
     "output_type": "stream",
     "text": [
      "Enter the number of rows:3\n",
      "Enter the number of columns:3\n",
      "Array1-\n",
      "Enter values rowwise:\n",
      "1\n",
      "2\n",
      "3\n",
      "4\n",
      "5\n",
      "6\n",
      "7\n",
      "8\n",
      "9\n",
      "Array2-\n",
      "Enter values rowwise:\n",
      "2\n",
      "4\n",
      "5\n",
      "9\n",
      "10\n",
      "12\n",
      "5\n",
      "3\n",
      "9\n",
      "Addition: [[ 3  6  8]\n",
      " [13 15 18]\n",
      " [12 11 18]]\n",
      "Subtraction: [[-1 -2 -2]\n",
      " [-5 -5 -6]\n",
      " [ 2  5  0]]\n"
     ]
    }
   ],
   "source": [
    "import numpy as np\n",
    "\n",
    "row = int(input(\"Enter the number of rows:\"))\n",
    "col = int(input(\"Enter the number of columns:\"))\n",
    "\n",
    "print(\"Array1-\")\n",
    "print(\"Enter values rowwise:\")\n",
    "\n",
    "array1=[]\n",
    "array2=[]\n",
    "\n",
    "for i in range(row):         \n",
    "    temp =[]\n",
    "    for j in range(col):     \n",
    "         temp.append(int(input()))\n",
    "    array1.append(temp)\n",
    "\n",
    "print(\"Array2-\")\n",
    "print(\"Enter values rowwise:\")\n",
    "\n",
    "for i in range(row):         \n",
    "    temp =[]\n",
    "    for j in range(col):     \n",
    "         temp.append(int(input()))\n",
    "    array2.append(temp)\n",
    "    \n",
    "\n",
    "sum=np.asarray(array1)+np.asarray(array2)\n",
    "sub=np.asarray(array1)-np.asarray(array2)\n",
    "\n",
    "print(\"Addition:\",sum)\n",
    "print(\"Subtraction:\",sub)"
   ]
  },
  {
   "cell_type": "markdown",
   "metadata": {},
   "source": [
    "### 18. Write a program to Multiply two matrices\n",
    "* Summary: Multiplies two matrices\n",
    "* Input: from the previous problem\n",
    "* Output: Product of two matrices"
   ]
  },
  {
   "cell_type": "code",
   "execution_count": 13,
   "metadata": {},
   "outputs": [
    {
     "name": "stdout",
     "output_type": "stream",
     "text": [
      "[[ 2  8 15]\n",
      " [36 50 72]\n",
      " [35 24 81]]\n"
     ]
    }
   ],
   "source": [
    "array1=np.asarray(array1)\n",
    "array2=np.asarray(array2)\n",
    "\n",
    "mul=array1*array2\n",
    "print(mul)"
   ]
  },
  {
   "cell_type": "markdown",
   "metadata": {},
   "source": [
    "### 19. Write a program to find out the Transpose of a Matrix.\n",
    "* Summary: Determines the transpose of a matrix\n",
    "* Input: from the previous problem\n",
    "* Output: Transpose"
   ]
  },
  {
   "cell_type": "code",
   "execution_count": 14,
   "metadata": {},
   "outputs": [
    {
     "name": "stdout",
     "output_type": "stream",
     "text": [
      "[[1 4 7]\n",
      " [2 5 8]\n",
      " [3 6 9]]\n"
     ]
    }
   ],
   "source": [
    "T_array1=array1.transpose()\n",
    "print(T_array1)"
   ]
  },
  {
   "cell_type": "markdown",
   "metadata": {},
   "source": [
    "### 20. Write a program to find out Determinant of a Matrix.\n",
    "* Summary: Determines the determinant of a matrix \n",
    "* Input: from the previous problem\n",
    "* Output: Determinant"
   ]
  },
  {
   "cell_type": "code",
   "execution_count": 15,
   "metadata": {},
   "outputs": [
    {
     "data": {
      "text/plain": [
       "-9.51619735392994e-16"
      ]
     },
     "execution_count": 15,
     "metadata": {},
     "output_type": "execute_result"
    }
   ],
   "source": [
    "np.linalg.det(array1)"
   ]
  },
  {
   "cell_type": "markdown",
   "metadata": {},
   "source": [
    "### 21. Write a program to construct a nxn magic square\n",
    "* Summary: Constructs a nxn magic square (Brute Force Approach)\n",
    "* Input: \n",
    "* Output: nxn magic square"
   ]
  },
  {
   "cell_type": "code",
   "execution_count": 98,
   "metadata": {},
   "outputs": [
    {
     "ename": "KeyboardInterrupt",
     "evalue": "",
     "output_type": "error",
     "traceback": [
      "\u001b[1;31m---------------------------------------------------------------------------\u001b[0m",
      "\u001b[1;31mKeyboardInterrupt\u001b[0m                         Traceback (most recent call last)",
      "\u001b[1;32m<ipython-input-98-9508f8283559>\u001b[0m in \u001b[0;36m<module>\u001b[1;34m\u001b[0m\n\u001b[0;32m      2\u001b[0m \u001b[0ma\u001b[0m\u001b[1;33m=\u001b[0m\u001b[1;33m[\u001b[0m\u001b[1;33m]\u001b[0m\u001b[1;33m\u001b[0m\u001b[1;33m\u001b[0m\u001b[0m\n\u001b[0;32m      3\u001b[0m \u001b[1;32mwhile\u001b[0m\u001b[1;33m(\u001b[0m\u001b[0mflag\u001b[0m\u001b[1;33m!=\u001b[0m\u001b[1;36m2\u001b[0m\u001b[1;33m*\u001b[0m\u001b[1;36m3\u001b[0m\u001b[1;33m)\u001b[0m\u001b[1;33m:\u001b[0m\u001b[1;33m\u001b[0m\u001b[1;33m\u001b[0m\u001b[0m\n\u001b[1;32m----> 4\u001b[1;33m     \u001b[0mA\u001b[0m \u001b[1;33m=\u001b[0m \u001b[0mnp\u001b[0m\u001b[1;33m.\u001b[0m\u001b[0mrandom\u001b[0m\u001b[1;33m.\u001b[0m\u001b[0mrandint\u001b[0m\u001b[1;33m(\u001b[0m\u001b[1;36m5\u001b[0m\u001b[1;33m,\u001b[0m \u001b[0msize\u001b[0m\u001b[1;33m=\u001b[0m\u001b[1;33m(\u001b[0m\u001b[1;36m2\u001b[0m\u001b[1;33m,\u001b[0m\u001b[1;36m2\u001b[0m\u001b[1;33m)\u001b[0m\u001b[1;33m)\u001b[0m\u001b[1;33m\u001b[0m\u001b[1;33m\u001b[0m\u001b[0m\n\u001b[0m\u001b[0;32m      5\u001b[0m     \u001b[1;32mfor\u001b[0m \u001b[0mi\u001b[0m \u001b[1;32min\u001b[0m \u001b[0ma\u001b[0m\u001b[1;33m:\u001b[0m\u001b[1;33m\u001b[0m\u001b[1;33m\u001b[0m\u001b[0m\n\u001b[0;32m      6\u001b[0m         \u001b[1;32mif\u001b[0m \u001b[0mnp\u001b[0m\u001b[1;33m.\u001b[0m\u001b[0marray_equal\u001b[0m\u001b[1;33m(\u001b[0m\u001b[0mi\u001b[0m\u001b[1;33m,\u001b[0m\u001b[0mA\u001b[0m\u001b[1;33m)\u001b[0m\u001b[1;33m:\u001b[0m\u001b[1;33m\u001b[0m\u001b[1;33m\u001b[0m\u001b[0m\n",
      "\u001b[1;31mKeyboardInterrupt\u001b[0m: "
     ]
    }
   ],
   "source": [
    "n=3\n",
    "\n",
    "#formula to determine the sum value for the respective value of n\n",
    "all_sum= n*((n**2)+1)/2\n",
    "flag=0\n",
    "a=[]\n",
    "\n",
    "while(flag!=n*3):\n",
    "    A = np.random.randint(all_sum, size=(n,n))\n",
    "    \n",
    "    #checks two see if this random matrix is unique \n",
    "    for i in a:\n",
    "        if np.array_equal(i,A): \n",
    "            print('')\n",
    "        else:\n",
    "            flag=0\n",
    "            \n",
    "            #checks to see if each sum of row is equal to all_sum\n",
    "            for i in A.sum(0):\n",
    "                if(i==all_sum):\n",
    "                    flag=flag+1\n",
    "            \n",
    "             #checks to see if each sum of column is equal to all_sum\n",
    "            for i in A.sum(1):\n",
    "                if(i==all_sum):\n",
    "                    flag=flag+1\n",
    "                    \n",
    "            #checks to see if each sum of diagonals is equal to all_sum\n",
    "            if(np.trace(A)==all_sum):\n",
    "                flag=flag+n\n",
    "            a.append(A)\n",
    "            \n",
    "print()"
   ]
  },
  {
   "cell_type": "code",
   "execution_count": 3,
   "metadata": {},
   "outputs": [],
   "source": []
  },
  {
   "cell_type": "code",
   "execution_count": null,
   "metadata": {},
   "outputs": [],
   "source": []
  }
 ],
 "metadata": {
  "kernelspec": {
   "display_name": "Python 3",
   "language": "python",
   "name": "python3"
  },
  "language_info": {
   "codemirror_mode": {
    "name": "ipython",
    "version": 3
   },
   "file_extension": ".py",
   "mimetype": "text/x-python",
   "name": "python",
   "nbconvert_exporter": "python",
   "pygments_lexer": "ipython3",
   "version": "3.7.4"
  }
 },
 "nbformat": 4,
 "nbformat_minor": 4
}
