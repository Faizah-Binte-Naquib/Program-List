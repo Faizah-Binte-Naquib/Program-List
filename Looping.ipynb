{
 "cells": [
  {
   "cell_type": "markdown",
   "metadata": {},
   "source": [
    "<b>1. x and n are input through keyboard. Write a program to compute x^n , n! ,\n",
    "nCr , nPr</b>\n",
    "* Summary: computes power, factorial, permutation and combination\n",
    "* Input: x and n\n",
    "* Output: power, factorial, permutation and combination"
   ]
  },
  {
   "cell_type": "code",
   "execution_count": 9,
   "metadata": {},
   "outputs": [
    {
     "name": "stdout",
     "output_type": "stream",
     "text": [
      "Enter value of x:1\n",
      "Enter value of n:2\n",
      "x^n 1\n"
     ]
    }
   ],
   "source": [
    "x=int(input(\"Enter value of x:\"))\n",
    "n=int(input(\"Enter value of n:\"))\n",
    "p=1\n",
    "for i in range(0,n):\n",
    "    p=p*x\n",
    "print(\"x^n\",p)"
   ]
  },
  {
   "cell_type": "code",
   "execution_count": 10,
   "metadata": {},
   "outputs": [
    {
     "name": "stdout",
     "output_type": "stream",
     "text": [
      "n! 2\n"
     ]
    }
   ],
   "source": [
    "p=1\n",
    "for i in reversed(range(1,n+1)):\n",
    "     p=p*i\n",
    "print(\"n!\",p)"
   ]
  },
  {
   "cell_type": "code",
   "execution_count": 24,
   "metadata": {},
   "outputs": [
    {
     "name": "stdout",
     "output_type": "stream",
     "text": [
      "Combination: 6.0\n",
      "Permutation: 12.0\n"
     ]
    }
   ],
   "source": [
    "r=x\n",
    "n_fact=1\n",
    "r_fact=1\n",
    "nr_fact=1\n",
    "#nCr = n!/r!(n-r)!\n",
    "#nPr = n!/(n-r)!\n",
    "for i in reversed(range(1,n+1)):\n",
    "     n_fact=n_fact*i\n",
    "for i in reversed(range(1,r+1)):\n",
    "     r_fact=r_fact*i\n",
    "nr= n-r\n",
    "for i in reversed(range(1,nr+1)):\n",
    "     nr_fact=nr_fact*i\n",
    "        \n",
    "C= n_fact/(r_fact*nr_fact)\n",
    "P= n_fact/nr_fact\n",
    "\n",
    "print(\"Combination:\",C)\n",
    "print(\"Permutation:\",P)"
   ]
  },
  {
   "cell_type": "markdown",
   "metadata": {},
   "source": [
    "<b>2. Write a program to determine the GCD (greatest common divisor) and\n",
    "LCM (least common multiple) of 3 numbers.</b>\n",
    "\n",
    "* Summary: determines the gcd and lcm of three numbers \n",
    "* Input: 3 numbers \n",
    "* Output: gcd,lcm"
   ]
  },
  {
   "cell_type": "code",
   "execution_count": 2,
   "metadata": {},
   "outputs": [
    {
     "name": "stdout",
     "output_type": "stream",
     "text": [
      "Enter a value for calculating GCD/LCM:2\n",
      "Enter a value for calculating GCD/LCM:4\n",
      "Enter a value for calculating GCD/LCM:8\n",
      "GCD: 2\n",
      "LCM: 8\n"
     ]
    }
   ],
   "source": [
    "values=[]\n",
    "\n",
    "for i in range(0,3):\n",
    "    values.append(int(input(\"Enter a value for calculating GCD/LCM:\")))\n",
    "values.sort()\n",
    "\n",
    "smallest=values[0]\n",
    "greatest=values[2]\n",
    "for i in range(1,smallest+1):\n",
    "    if((values[0]%i==0)and(values[1]%i==0)and(values[2]%i==0)):\n",
    "        gcd=i\n",
    "print(\"GCD:\",gcd)\n",
    "\n",
    "\n",
    "while(True):\n",
    "    if((greatest % values[0] == 0) and (greatest % values[1] == 0) and (greatest % values[2] == 0)):\n",
    "        lcm = greatest\n",
    "        break\n",
    "    greatest += 1\n",
    "print(\"LCM:\",lcm)"
   ]
  },
  {
   "cell_type": "markdown",
   "metadata": {},
   "source": [
    "<b>3. Find out the sum of each of the following series. n is the input from user\n",
    "for series</b>\n",
    "* Summary: Contains 6 different series, determines the summation of each\n",
    "* Input:\n",
    "* Output: Summation of Series"
   ]
  },
  {
   "cell_type": "code",
   "execution_count": 4,
   "metadata": {},
   "outputs": [
    {
     "name": "stdout",
     "output_type": "stream",
     "text": [
      "1691\n",
      "177873\n"
     ]
    }
   ],
   "source": [
    "#3 + 11 + 19 + … + 1691.\n",
    "start=3\n",
    "end=int(input())\n",
    "sum=0\n",
    "flag=1\n",
    "while(flag==1):\n",
    "    sum=sum+start\n",
    "    start=start+8\n",
    "    if(start==end):\n",
    "        flag=2\n",
    "        break\n",
    "print(sum)"
   ]
  },
  {
   "cell_type": "code",
   "execution_count": 49,
   "metadata": {},
   "outputs": [
    {
     "name": "stdout",
     "output_type": "stream",
     "text": [
      "65050\n"
     ]
    }
   ],
   "source": [
    "#7 + 20 + 33 + … ( up to 100 th term )\n",
    "start=7\n",
    "sum=0\n",
    "for i in range(1,101):\n",
    "    sum=sum+start\n",
    "    start=start+13\n",
    "\n",
    "print(sum)    "
   ]
  },
  {
   "cell_type": "code",
   "execution_count": 54,
   "metadata": {},
   "outputs": [
    {
     "name": "stdout",
     "output_type": "stream",
     "text": [
      "11\n"
     ]
    }
   ],
   "source": [
    "#5 – 11 + 17 - … (up to 75 th term )\n",
    "start=5\n",
    "sum=0\n",
    "for i in range(1,4):\n",
    "    if(i%2!=0):\n",
    "        sum=sum+start\n",
    "        start=start+6\n",
    "    else:\n",
    "        sum=sum-start\n",
    "        start=start+6\n",
    "\n",
    "print(sum)   "
   ]
  },
  {
   "cell_type": "code",
   "execution_count": 2,
   "metadata": {},
   "outputs": [
    {
     "name": "stdout",
     "output_type": "stream",
     "text": [
      "Enter value of n:3\n",
      "10\n"
     ]
    }
   ],
   "source": [
    "#1 + ( 1 + 2 ) + ( 1 + 2 + 3 ) + … + ( 1 + 2 + 3 + … + n )\n",
    "sum=0\n",
    "start=1\n",
    "n=int(input(\"Enter value of n:\"))\n",
    "for i in range(0,n):\n",
    "    sum=sum+start\n",
    "    for i in range(1,start):\n",
    "        sum=sum+i\n",
    "    start=start+1\n",
    "    \n",
    "print(sum)    "
   ]
  },
  {
   "cell_type": "code",
   "execution_count": 12,
   "metadata": {},
   "outputs": [
    {
     "name": "stdout",
     "output_type": "stream",
     "text": [
      "Enter value of n:2\n",
      "3.0\n"
     ]
    }
   ],
   "source": [
    "# 1 +(2^2)/2!+(3^2)/3!+ … +(n^2)/n!\n",
    "sum=0\n",
    "start=1\n",
    "new_num=1\n",
    "p=1\n",
    "n=int(input(\"Enter value of n:\"))\n",
    "for i in range(1,n+1):\n",
    "    if(i>1):\n",
    "        for i in reversed(range(1,start+1)):\n",
    "            p=p*i\n",
    "        new_num= (start**2)/p\n",
    "    sum=sum+new_num\n",
    "    start=start+1\n",
    "print(sum)"
   ]
  },
  {
   "cell_type": "code",
   "execution_count": 14,
   "metadata": {},
   "outputs": [
    {
     "name": "stdout",
     "output_type": "stream",
     "text": [
      "120\n"
     ]
    }
   ],
   "source": [
    "#2 * 7 * 12 * … * 37\n",
    "start=2\n",
    "end=37\n",
    "sum=1\n",
    "flag=1\n",
    "while(flag==1):\n",
    "    sum=sum+start\n",
    "    start=start+5\n",
    "    if(start==end):\n",
    "        flag=2\n",
    "        break\n",
    "print(sum)"
   ]
  },
  {
   "cell_type": "markdown",
   "metadata": {},
   "source": [
    "<b>4. Write a program to determine all prime numbers within the range [a …b]\n",
    "where a & b are input through keyboard.</b>\n",
    "    \n",
    "* Summary: Determines prime number\n",
    "* Input: Take range input start and end\n",
    "* Output: all prime numbers withing range"
   ]
  },
  {
   "cell_type": "code",
   "execution_count": 21,
   "metadata": {},
   "outputs": [
    {
     "name": "stdout",
     "output_type": "stream",
     "text": [
      "Enter lower range: 10\n",
      "Enter upper range: 50\n",
      "11\n",
      "13\n",
      "17\n",
      "19\n",
      "23\n",
      "29\n",
      "31\n",
      "37\n",
      "41\n",
      "43\n",
      "47\n"
     ]
    }
   ],
   "source": [
    "a= int(input(\"Enter lower range: \"))  \n",
    "b= int(input(\"Enter upper range: \"))  \n",
    "flag=1\n",
    "for num in range(a,b+1): \n",
    "    flag=1\n",
    "    if(num>1):  \n",
    "        for i in range(2,num): \n",
    "            #print(\"num:\",num)\n",
    "            #print(\"i:\",i)\n",
    "            if ((num % i) == 0): \n",
    "                flag=2\n",
    "                break  \n",
    "        if(flag!=2):\n",
    "            print(num)          "
   ]
  },
  {
   "cell_type": "markdown",
   "metadata": {},
   "source": [
    "\n",
    "<b>5. Construct the following table. Here n is input from the user.\n",
    "</b>\n",
    "<img src=\"1.jpg\">\n",
    "* Summary: Constructs the given table\n",
    "* Input: n\n",
    "* Output: table"
   ]
  },
  {
   "cell_type": "code",
   "execution_count": 24,
   "metadata": {},
   "outputs": [
    {
     "name": "stdout",
     "output_type": "stream",
     "text": [
      "Enter value of n:5\n",
      "1 2 3 4 5 \n",
      "\n",
      "2 4 6 8 10 \n",
      "\n",
      "3 6 9 12 15 \n",
      "\n",
      "4 8 12 16 20 \n",
      "\n",
      "5 10 15 20 25 \n",
      "\n"
     ]
    }
   ],
   "source": [
    "n=int(input(\"Enter value of n:\"))\n",
    "for i in range(1,n+1):\n",
    "    for j in range(1,n+1):\n",
    "        print(i*j, end =\" \")\n",
    "    print(\"\\n\")\n",
    "   "
   ]
  },
  {
   "cell_type": "markdown",
   "metadata": {},
   "source": [
    "<b> 6. Write a program to find out first n perfect number where n is the input from user.</b>\n",
    "* Summary: Determines perfect numbers\n",
    "* Input: n\n",
    "* Output: Perfect numbers within n range"
   ]
  },
  {
   "cell_type": "code",
   "execution_count": 27,
   "metadata": {},
   "outputs": [
    {
     "name": "stdout",
     "output_type": "stream",
     "text": [
      "Enter value of n:30\n",
      "6\n",
      "28\n"
     ]
    }
   ],
   "source": [
    "n=int(input(\"Enter value of n:\"))\n",
    "for i in range(1,n+1):\n",
    "    sum=0\n",
    "    for j in range(1,i):\n",
    "        if(i%j==0):\n",
    "            sum=sum+j\n",
    "    if(sum==i):\n",
    "        print(i)"
   ]
  },
  {
   "cell_type": "markdown",
   "metadata": {},
   "source": [
    "<b>7. Write a program to find first n Fibonacci number where n is the input from user.</b>\n",
    "* Summary: Finds fibonacci number for first n terms\n",
    "* Input: n\n",
    "* Output: fibonacci number for n terms"
   ]
  },
  {
   "cell_type": "code",
   "execution_count": 31,
   "metadata": {},
   "outputs": [
    {
     "name": "stdout",
     "output_type": "stream",
     "text": [
      "Enter value of n:8\n",
      "0 1,1,2,3,5,8,13,"
     ]
    }
   ],
   "source": [
    "n=int(input(\"Enter value of n:\"))\n",
    "first=0\n",
    "second=1\n",
    "print(first,second,end=\",\")\n",
    "for i in range(3,n+1):\n",
    "    third=first+second\n",
    "    print(third,end=\",\")\n",
    "    first=second\n",
    "    second=third"
   ]
  },
  {
   "cell_type": "markdown",
   "metadata": {},
   "source": [
    "<b>8. Write a program to show the following triangle/rectangle of ‘*’s or numbers. Take n as input from user to determine the number of rows of the structure. (eg: n = 5 )</b>\n",
    "\n",
    "* Summary: Prints different patterns\n",
    "* Input: n\n",
    "* Output: patterns"
   ]
  },
  {
   "cell_type": "code",
   "execution_count": 69,
   "metadata": {},
   "outputs": [
    {
     "name": "stdout",
     "output_type": "stream",
     "text": [
      "Enter value of n:5\n",
      "    *\n",
      "\n",
      "   ***\n",
      "\n",
      "  *****\n",
      "\n",
      " *******\n",
      "\n",
      "*********\n",
      "\n"
     ]
    }
   ],
   "source": [
    "n=int(input(\"Enter value of n:\"))\n",
    "num_stars=1\n",
    "num_space=n-1\n",
    "for i in reversed(range(1,n+1)):\n",
    "    for j in range(0,num_space):\n",
    "        print(\" \",end=\"\")\n",
    "    for j in range(0,num_stars):\n",
    "        print(\"*\",end=\"\")\n",
    "    num_stars=num_stars+2\n",
    "    num_space=num_space-1\n",
    "    print(\"\\n\")"
   ]
  },
  {
   "cell_type": "code",
   "execution_count": 68,
   "metadata": {},
   "outputs": [
    {
     "name": "stdout",
     "output_type": "stream",
     "text": [
      "Enter value of n:5\n",
      "    *\n",
      "\n",
      "   * *\n",
      "\n",
      "  *   *\n",
      "\n",
      " *     *\n",
      "\n",
      "*********"
     ]
    }
   ],
   "source": [
    "n=int(input(\"Enter value of n:\"))\n",
    "num_stars=1\n",
    "num_space=n-1\n",
    "for i in (range(1,n+1)):\n",
    "    if(i<n):\n",
    "        for j in range(0,num_space):\n",
    "            print(\" \",end=\"\")\n",
    "        for j in range(0,num_stars):\n",
    "            if(j==0 or j==num_stars-1):\n",
    "                print(\"*\",end=\"\")\n",
    "            else:\n",
    "                print(\" \",end=\"\")\n",
    "        num_stars=num_stars+2\n",
    "        num_space=num_space-1\n",
    "        print(\"\\n\")\n",
    "    else:\n",
    "        for j in range(0,num_stars):\n",
    "            print(\"*\",end=\"\")\n"
   ]
  },
  {
   "cell_type": "code",
   "execution_count": 75,
   "metadata": {},
   "outputs": [
    {
     "name": "stdout",
     "output_type": "stream",
     "text": [
      "Enter value of n:5\n",
      "    1\n",
      "\n",
      "   121\n",
      "\n",
      "  12321\n",
      "\n",
      " 1234321\n",
      "\n",
      "123454321\n",
      "\n"
     ]
    }
   ],
   "source": [
    "import math\n",
    "n=int(input(\"Enter value of n:\"))\n",
    "num_stars=1\n",
    "num_space=n-1\n",
    "for i in (range(1,n+1)):\n",
    "    for j in range(0,num_space):\n",
    "        print(\" \",end=\"\")\n",
    "    for j in range(0,math.ceil(num_stars/2)):\n",
    "        print(j+1,end=\"\")\n",
    "    for k in reversed(range(0,num_stars-math.ceil(num_stars/2))):\n",
    "        print(k+1,end=\"\")\n",
    "            \n",
    "    num_stars=num_stars+2\n",
    "    num_space=num_space-1\n",
    "    print(\"\\n\")"
   ]
  },
  {
   "cell_type": "code",
   "execution_count": 80,
   "metadata": {},
   "outputs": [
    {
     "name": "stdout",
     "output_type": "stream",
     "text": [
      "Enter value of n:5\n",
      "*****\n",
      "\n",
      "*****\n",
      "\n",
      "*****\n",
      "\n",
      "*****\n",
      "\n",
      "*****\n",
      "\n"
     ]
    }
   ],
   "source": [
    "n=int(input(\"Enter value of n:\"))\n",
    "for i in (range(1,n+1)):\n",
    "    for j in (range(1,n+1)):\n",
    "        print(\"*\",end=\"\")\n",
    "    print(\"\\n\")"
   ]
  },
  {
   "cell_type": "code",
   "execution_count": 95,
   "metadata": {},
   "outputs": [
    {
     "name": "stdout",
     "output_type": "stream",
     "text": [
      "Enter value of n:5\n",
      "12321\n",
      "\n",
      "1   1\n",
      "\n",
      "1   1\n",
      "\n",
      "1   1\n",
      "\n",
      "12321\n",
      "\n"
     ]
    }
   ],
   "source": [
    "n=int(input(\"Enter value of n:\"))\n",
    "for i in (range(1,n+1)):\n",
    "    if(i==1 or i==n):\n",
    "        for j in (range(1,math.ceil(n/2)+1)):\n",
    "            print(j,end=\"\")\n",
    "        for j in reversed(range(1,n-math.ceil(n/2)+1)):\n",
    "            print(j,end=\"\")\n",
    "        print(\"\\n\")\n",
    "    else:\n",
    "        for j in (range(1,n+1)):\n",
    "            if(j==1 or j==n):\n",
    "                print(\"1\",end=\"\")\n",
    "            else:\n",
    "                print(\" \",end=\"\")\n",
    "        print(\"\\n\")\n",
    "            \n",
    "        "
   ]
  },
  {
   "cell_type": "code",
   "execution_count": 103,
   "metadata": {},
   "outputs": [
    {
     "name": "stdout",
     "output_type": "stream",
     "text": [
      "Enter value of n:6\n",
      "     *\n",
      "\n",
      "    ***\n",
      "\n",
      "   *****\n",
      "\n",
      "  *******\n",
      "\n",
      " *********\n",
      "\n",
      "***********\n",
      "\n",
      "***********\n",
      "\n",
      " *********\n",
      "\n",
      "  *******\n",
      "\n",
      "   *****\n",
      "\n",
      "    ***\n",
      "\n",
      "     *\n",
      "\n"
     ]
    }
   ],
   "source": [
    "n=int(input(\"Enter value of n:\"))\n",
    "num_stars=1\n",
    "num_space=n-1\n",
    "for i in reversed(range(1,n+1)):\n",
    "    for j in range(0,num_space):\n",
    "        print(\" \",end=\"\")\n",
    "    for j in range(0,num_stars):\n",
    "        print(\"*\",end=\"\")\n",
    "    num_stars=num_stars+2\n",
    "    num_space=num_space-1\n",
    "    print(\"\\n\")\n",
    "    \n",
    "#initial space and stars after first phase\n",
    "num_stars=num_stars-2\n",
    "num_space=0\n",
    "\n",
    "#this loop is the same as the first, just the starts and spaces were swapped\n",
    "for i in reversed(range(1,n+1)):\n",
    "    for j in range(0,num_space):\n",
    "        print(\" \",end=\"\")\n",
    "    for j in range(0,num_stars):\n",
    "        print(\"*\",end=\"\")\n",
    "    num_stars=num_stars-2\n",
    "    num_space=num_space+1\n",
    "    print(\"\\n\")"
   ]
  },
  {
   "cell_type": "code",
   "execution_count": 108,
   "metadata": {},
   "outputs": [
    {
     "name": "stdout",
     "output_type": "stream",
     "text": [
      "Enter value of n:5\n",
      "    *\n",
      "\n",
      "   * *\n",
      "\n",
      "  *   *\n",
      "\n",
      " *     *\n",
      "\n",
      "*       *\n",
      "\n",
      "*       *\n",
      "\n",
      " *     *\n",
      "\n",
      "  *   *\n",
      "\n",
      "   * *\n",
      "\n",
      "    *\n",
      "\n"
     ]
    }
   ],
   "source": [
    "n=int(input(\"Enter value of n:\"))\n",
    "num_stars=1\n",
    "num_space=n-1\n",
    "for i in (range(1,n+1)):\n",
    "    for j in range(0,num_space):\n",
    "        print(\" \",end=\"\")\n",
    "    for j in range(0,num_stars):\n",
    "        if(j==0 or j==num_stars-1):\n",
    "            print(\"*\",end=\"\")\n",
    "        else:\n",
    "            print(\" \",end=\"\")\n",
    "    num_stars=num_stars+2\n",
    "    num_space=num_space-1\n",
    "    print(\"\\n\")\n",
    "    \n",
    "#initial space and stars after first phase\n",
    "num_stars=num_stars-2\n",
    "num_space=0\n",
    "\n",
    "#this loop is the same as the first, just the starts and spaces were swapped\n",
    "for i in (range(1,n+1)):\n",
    "    for j in range(0,num_space):\n",
    "        print(\" \",end=\"\")\n",
    "    for j in range(0,num_stars):\n",
    "        if(j==0 or j==num_stars-1):\n",
    "            print(\"*\",end=\"\")\n",
    "        else:\n",
    "            print(\" \",end=\"\")\n",
    "    num_stars=num_stars-2\n",
    "    num_space=num_space+1\n",
    "    print(\"\\n\")"
   ]
  },
  {
   "cell_type": "code",
   "execution_count": 110,
   "metadata": {},
   "outputs": [
    {
     "name": "stdout",
     "output_type": "stream",
     "text": [
      "Enter value of n:5\n",
      "    1\n",
      "\n",
      "   121\n",
      "\n",
      "  12321\n",
      "\n",
      " 1234321\n",
      "\n",
      "123454321\n",
      "\n",
      "123454321\n",
      "\n",
      " 1234321\n",
      "\n",
      "  12321\n",
      "\n",
      "   121\n",
      "\n",
      "    1\n",
      "\n"
     ]
    }
   ],
   "source": [
    "import math\n",
    "n=int(input(\"Enter value of n:\"))\n",
    "num_stars=1\n",
    "num_space=n-1\n",
    "for i in (range(1,n+1)):\n",
    "    for j in range(0,num_space):\n",
    "        print(\" \",end=\"\")\n",
    "    for j in range(0,math.ceil(num_stars/2)):\n",
    "        print(j+1,end=\"\")\n",
    "    for k in reversed(range(0,num_stars-math.ceil(num_stars/2))):\n",
    "        print(k+1,end=\"\")\n",
    "            \n",
    "    num_stars=num_stars+2\n",
    "    num_space=num_space-1\n",
    "    print(\"\\n\")\n",
    "    \n",
    "#initial numbers of space and numbers after first phase\n",
    "num_stars=num_stars-2\n",
    "num_space=0\n",
    "\n",
    "#this loop is the same as the first, just the starts and spaces were swapped\n",
    "for i in (range(1,n+1)):\n",
    "    for j in range(0,num_space):\n",
    "        print(\" \",end=\"\")\n",
    "    for j in range(0,math.ceil(num_stars/2)):\n",
    "        print(j+1,end=\"\")\n",
    "    for k in reversed(range(0,num_stars-math.ceil(num_stars/2))):\n",
    "        print(k+1,end=\"\")\n",
    "            \n",
    "    num_stars=num_stars-2\n",
    "    num_space=num_space+1\n",
    "    print(\"\\n\")"
   ]
  },
  {
   "cell_type": "code",
   "execution_count": 131,
   "metadata": {},
   "outputs": [
    {
     "name": "stdout",
     "output_type": "stream",
     "text": [
      "Enter value of n:5\n",
      "*********\n",
      "\n",
      " *******\n",
      "\n",
      "  *****\n",
      "\n",
      "   ***\n",
      "\n",
      "    *\n",
      "\n",
      "    **\n",
      "\n",
      "   ****\n",
      "\n",
      "  ******\n",
      "\n",
      " ********\n",
      "\n"
     ]
    }
   ],
   "source": [
    "n=int(input(\"Enter value of n:\"))\n",
    "\n",
    "#Initial number of spaces and stars \n",
    "num_stars=2*n-1\n",
    "num_space=0\n",
    "\n",
    "#first loop\n",
    "for i in reversed(range(1,n+1)):\n",
    "    for j in range(0,num_space):\n",
    "        print(\" \",end=\"\")\n",
    "    for j in range(0,num_stars):\n",
    "        print(\"*\",end=\"\")\n",
    "    num_stars=num_stars-2\n",
    "    num_space=num_space+1\n",
    "    print(\"\\n\")\n",
    "    \n",
    "#Initial number of spaces and numbers after first phase \n",
    "num_stars=2\n",
    "num_space=n-1\n",
    "\n",
    "#this loop is the same as the first, just the starts and spaces were swapped\n",
    "for i in reversed(range(1,n)):\n",
    "        for j in range(0,num_space):\n",
    "            print(\" \",end=\"\")\n",
    "        for j in range(0,num_stars):\n",
    "            print(\"*\",end=\"\")\n",
    "        num_stars=num_stars+2\n",
    "        num_space=num_space-1\n",
    "        print(\"\\n\")"
   ]
  },
  {
   "cell_type": "code",
   "execution_count": 132,
   "metadata": {},
   "outputs": [
    {
     "name": "stdout",
     "output_type": "stream",
     "text": [
      "Enter value of n:5\n",
      "123454321\n",
      "\n",
      " 1234321\n",
      "\n",
      "  12321\n",
      "\n",
      "   121\n",
      "\n",
      "    1\n",
      "\n",
      "   121\n",
      "\n",
      "  12321\n",
      "\n",
      " 1234321\n",
      "\n",
      "123454321\n",
      "\n"
     ]
    }
   ],
   "source": [
    "import math\n",
    "n=int(input(\"Enter value of n:\"))\n",
    "num_stars=2*n-1\n",
    "num_space=0\n",
    "for i in (range(1,n+1)):\n",
    "    for j in range(0,num_space):\n",
    "        print(\" \",end=\"\")\n",
    "    for j in range(0,math.ceil(num_stars/2)):\n",
    "        print(j+1,end=\"\")\n",
    "    for k in reversed(range(0,num_stars-math.ceil(num_stars/2))):\n",
    "        print(k+1,end=\"\")\n",
    "            \n",
    "    num_stars=num_stars-2\n",
    "    num_space=num_space+1\n",
    "    print(\"\\n\")\n",
    "    \n",
    "#initial number of spaces and numbers after first phase\n",
    "num_stars=3\n",
    "num_space=n-2\n",
    "\n",
    "#this loop is the same as the first, just the starts and spaces were swapped\n",
    "for i in (range(1,n)):\n",
    "    for j in range(0,num_space):\n",
    "        print(\" \",end=\"\")\n",
    "    for j in range(0,math.ceil(num_stars/2)):\n",
    "        print(j+1,end=\"\")\n",
    "    for k in reversed(range(0,num_stars-math.ceil(num_stars/2))):\n",
    "        print(k+1,end=\"\")\n",
    "            \n",
    "    num_stars=num_stars+2\n",
    "    num_space=num_space-1\n",
    "    print(\"\\n\")"
   ]
  },
  {
   "cell_type": "markdown",
   "metadata": {},
   "source": [
    "<b>9. Write a program to print out all Armstrong numbers between 1 and 10000. If sum of cubes of each digit of the number is equal to the number itself, then the number is called an Armstrong number. For example, 153 = (1x1x1) + (5x5x5) + (3x3x3).</b>\n",
    "* Summary: Determines all the Armstrong numbers in a range\n",
    "* Input:\n",
    "* Output: Armstrong numbers "
   ]
  },
  {
   "cell_type": "code",
   "execution_count": 148,
   "metadata": {},
   "outputs": [
    {
     "name": "stdout",
     "output_type": "stream",
     "text": [
      "153\n",
      "370\n",
      "371\n",
      "407\n"
     ]
    }
   ],
   "source": [
    "for i in range(2,10001):\n",
    "    num_str=str(i)\n",
    "    for num in num_str:\n",
    "        sum=sum+math.pow(int(num),3)\n",
    "    if(sum==i):\n",
    "        print(i)\n",
    "    sum=0"
   ]
  },
  {
   "cell_type": "markdown",
   "metadata": {},
   "source": [
    "<b>10. Write a program to calculate how many 5 digit numbers can be created if the following terms apply :\n",
    "(i) the leftmost digit is even\n",
    "(ii) the second digit is odd\n",
    "(iii) the third digit is a non even prime\n",
    "(iv) the fourth and fifth are two random digits not used before in the number.</b>\n",
    "\n",
    "* Summary: Determines all possible 5 digit numbers for given conditions\n",
    "* Input:\n",
    "* Output: total numbers"
   ]
  },
  {
   "cell_type": "code",
   "execution_count": 154,
   "metadata": {},
   "outputs": [
    {
     "name": "stdout",
     "output_type": "stream",
     "text": [
      "2556\n"
     ]
    }
   ],
   "source": [
    "flag=1\n",
    "count=0\n",
    "for i in range(10000,100000):\n",
    "    num_str=str(i)\n",
    "    if(int(num_str[0])%2==0):\n",
    "        if(int(num_str[1])%2!=0):\n",
    "            for j in range(1,int(num_str[2])):\n",
    "                if(int(num_str[2])%j==0 and int(num_str)!=2):\n",
    "                    flag=2\n",
    "            if(flag==1):\n",
    "                if(int(num_str[3])!=int(num_str[0]) and int(num_str[3])!=int(num_str[1]) and int(num_str[3])!=int(num_str[2])):\n",
    "                    if(int(num_str[3])!=int(num_str[0]) and int(num_str[3])!=int(num_str[1]) and int(num_str[3])!=int(num_str[2]) and int(num_str[4])!=int(num_str[3])):\n",
    "                        count=count+1\n",
    "    flag=1\n",
    "print(count)"
   ]
  },
  {
   "cell_type": "code",
   "execution_count": null,
   "metadata": {},
   "outputs": [],
   "source": []
  }
 ],
 "metadata": {
  "kernelspec": {
   "display_name": "Python 3",
   "language": "python",
   "name": "python3"
  },
  "language_info": {
   "codemirror_mode": {
    "name": "ipython",
    "version": 3
   },
   "file_extension": ".py",
   "mimetype": "text/x-python",
   "name": "python",
   "nbconvert_exporter": "python",
   "pygments_lexer": "ipython3",
   "version": "3.7.4"
  }
 },
 "nbformat": 4,
 "nbformat_minor": 4
}
